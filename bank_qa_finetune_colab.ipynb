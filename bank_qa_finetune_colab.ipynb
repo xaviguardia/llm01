{
  "cells": [
    {
      "cell_type": "markdown",
      "metadata": {
        "id": "_dy5aa2ml2xl"
      },
      "source": [
        "# Fine-tuning Mistral-7B con QLoRA"
      ]
    },
    {
      "cell_type": "code",
      "execution_count": null,
      "metadata": {
        "id": "3wQtTSXPl2xn"
      },
      "outputs": [],
      "source": [
        "!pip install transformers datasets peft bitsandbytes accelerate"
      ]
    },
    {
      "cell_type": "code",
      "execution_count": null,
      "metadata": {
        "id": "r9ZPyP7ol2xp"
      },
      "outputs": [],
      "source": [
        "!git clone https://github.com/xaviguardia/llm01.git && cd bank-qa-finetune-hf && python train.py"
      ]
    },
    {
      "cell_type": "code",
      "execution_count": null,
      "metadata": {
        "id": "PWks8jKCl2xq"
      },
      "outputs": [],
      "source": [
        "!python train.py"
      ]
    }
  ],
  "metadata": {
    "kernelspec": {
      "display_name": "Python 3",
      "language": "python",
      "name": "python3"
    },
    "language_info": {
      "name": "python"
    },
    "colab": {
      "provenance": []
    }
  },
  "nbformat": 4,
  "nbformat_minor": 0
}